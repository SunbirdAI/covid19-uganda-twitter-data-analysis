{
 "cells": [
  {
   "cell_type": "code",
   "execution_count": 10,
   "metadata": {},
   "outputs": [],
   "source": [
    "import twitter\n",
    "import os\n",
    "from dotenv import load_dotenv\n",
    "load_dotenv()\n",
    "\n",
    "# Authentication\n",
    "API_KEY = os.getenv(\"TWITTER_API_KEY\")\n",
    "API_SECRET = os.getenv(\"TWITTER_API_SECRET\")\n",
    "\n",
    "auth = twitter.oauth.OAuth(\"\", \"\", API_KEY, API_SECRET)\n",
    "\n",
    "twitter_api = twitter.Twitter(auth=auth)"
   ]
  },
  {
   "cell_type": "code",
   "execution_count": 35,
   "metadata": {
    "scrolled": true
   },
   "outputs": [],
   "source": [
    "# get tweets related to covid19 in uganda using the search query \"COVID19UG\"\n",
    "ug_covid_tweets = twitter_api.search.tweets(q=\"COVID19UG\")"
   ]
  },
  {
   "cell_type": "code",
   "execution_count": 51,
   "metadata": {},
   "outputs": [],
   "source": [
    "import json\n",
    "\n",
    "# pretty print the json returned above. uncomment this to view the tweets\n",
    "# print(json.dumps(ug_covid_tweets, indent=2))"
   ]
  },
  {
   "cell_type": "code",
   "execution_count": 44,
   "metadata": {},
   "outputs": [],
   "source": [
    "# ministry of health tweets\n",
    "min_of_health_tweets = twitter_api.search.tweets(q=\"from:MinofHealthUG\")"
   ]
  },
  {
   "cell_type": "code",
   "execution_count": 58,
   "metadata": {},
   "outputs": [
    {
     "name": "stdout",
     "output_type": "stream",
     "text": [
      "Length of statuses 30\n",
      "Sample tweet:  {\n",
      "  \"created_at\": \"Tue May 12 04:18:26 +0000 2020\",\n",
      "  \"id\": 1260061749090422792,\n",
      "  \"id_str\": \"1260061749090422792\",\n",
      "  \"text\": \"RT @MorikuJoyce: My visit at @BuliisaDistrict Hospital.\\nHandwashing remains the No.1 tip for preventing the spread of Coronavirus (COVID-19\\u2026\",\n",
      "  \"truncated\": false,\n",
      "  \"entities\": {\n",
      "    \"hashtags\": [],\n",
      "    \"symbols\": [],\n",
      "    \"user_mentions\": [\n",
      "      {\n",
      "        \"screen_name\": \"MorikuJoyce\",\n",
      "        \"name\": \"Dr. Joyce Moriku Kaducu\",\n",
      "        \"id\": 1089092515893051392,\n",
      "        \"id_str\": \"1089092515893051392\",\n",
      "        \"indices\": [\n",
      "          3,\n",
      "          15\n",
      "        ]\n",
      "      },\n",
      "      {\n",
      "        \"screen_name\": \"BuliisaDistrict\",\n",
      "        \"name\": \"Buliisa district\",\n",
      "        \"id\": 3377196910,\n",
      "        \"id_str\": \"3377196910\",\n",
      "        \"indices\": [\n",
      "          29,\n",
      "          45\n",
      "        ]\n",
      "      }\n",
      "    ],\n",
      "    \"urls\": []\n",
      "  },\n",
      "  \"metadata\": {\n",
      "    \"iso_language_code\": \"en\",\n",
      "    \"result_type\": \"recent\"\n",
      "  },\n",
      "  \"source\": \"<a href=\\\"http://twitter.com/download/iphone\\\" rel=\\\"nofollow\\\">Twitter for iPhone</a>\",\n",
      "  \"in_reply_to_status_id\": null,\n",
      "  \"in_reply_to_status_id_str\": null,\n",
      "  \"in_reply_to_user_id\": null,\n",
      "  \"in_reply_to_user_id_str\": null,\n",
      "  \"in_reply_to_screen_name\": null,\n",
      "  \"user\": {\n",
      "    \"id\": 2882328382,\n",
      "    \"id_str\": \"2882328382\",\n",
      "    \"name\": \"Ministry of Health- Uganda\",\n",
      "    \"screen_name\": \"MinofHealthUG\",\n",
      "    \"location\": \"Kampala, Uganda\",\n",
      "    \"description\": \"The Official Twitter Account of Ministry of Health Uganda. All information posted and viewed on this page is subject to Ministry of Health User Policy.\",\n",
      "    \"url\": \"https://t.co/w3xl3J90Lf\",\n",
      "    \"entities\": {\n",
      "      \"url\": {\n",
      "        \"urls\": [\n",
      "          {\n",
      "            \"url\": \"https://t.co/w3xl3J90Lf\",\n",
      "            \"expanded_url\": \"http://health.go.ug\",\n",
      "            \"display_url\": \"health.go.ug\",\n",
      "            \"indices\": [\n",
      "              0,\n",
      "              23\n",
      "            ]\n",
      "          }\n",
      "        ]\n",
      "      },\n",
      "      \"description\": {\n",
      "        \"urls\": []\n",
      "      }\n",
      "    },\n",
      "    \"protected\": false,\n",
      "    \"followers_count\": 134136,\n",
      "    \"friends_count\": 402,\n",
      "    \"listed_count\": 150,\n",
      "    \"created_at\": \"Tue Nov 18 07:29:10 +0000 2014\",\n",
      "    \"favourites_count\": 2361,\n",
      "    \"utc_offset\": null,\n",
      "    \"time_zone\": null,\n",
      "    \"geo_enabled\": true,\n",
      "    \"verified\": true,\n",
      "    \"statuses_count\": 9253,\n",
      "    \"lang\": null,\n",
      "    \"contributors_enabled\": false,\n",
      "    \"is_translator\": false,\n",
      "    \"is_translation_enabled\": false,\n",
      "    \"profile_background_color\": \"000000\",\n",
      "    \"profile_background_image_url\": \"http://abs.twimg.com/images/themes/theme1/bg.png\",\n",
      "    \"profile_background_image_url_https\": \"https://abs.twimg.com/images/themes/theme1/bg.png\",\n",
      "    \"profile_background_tile\": false,\n",
      "    \"profile_image_url\": \"http://pbs.twimg.com/profile_images/616544087794184192/mtfymK0l_normal.jpg\",\n",
      "    \"profile_image_url_https\": \"https://pbs.twimg.com/profile_images/616544087794184192/mtfymK0l_normal.jpg\",\n",
      "    \"profile_banner_url\": \"https://pbs.twimg.com/profile_banners/2882328382/1587199194\",\n",
      "    \"profile_link_color\": \"ABB8C2\",\n",
      "    \"profile_sidebar_border_color\": \"000000\",\n",
      "    \"profile_sidebar_fill_color\": \"000000\",\n",
      "    \"profile_text_color\": \"000000\",\n",
      "    \"profile_use_background_image\": false,\n",
      "    \"has_extended_profile\": true,\n",
      "    \"default_profile\": false,\n",
      "    \"default_profile_image\": false,\n",
      "    \"following\": null,\n",
      "    \"follow_request_sent\": null,\n",
      "    \"notifications\": null,\n",
      "    \"translator_type\": \"none\"\n",
      "  },\n",
      "  \"geo\": null,\n",
      "  \"coordinates\": null,\n",
      "  \"place\": null,\n",
      "  \"contributors\": null,\n",
      "  \"retweeted_status\": {\n",
      "    \"created_at\": \"Mon May 11 13:56:04 +0000 2020\",\n",
      "    \"id\": 1259844729082183682,\n",
      "    \"id_str\": \"1259844729082183682\",\n",
      "    \"text\": \"My visit at @BuliisaDistrict Hospital.\\nHandwashing remains the No.1 tip for preventing the spread of Coronavirus (C\\u2026 https://t.co/0vHSX7A5hz\",\n",
      "    \"truncated\": true,\n",
      "    \"entities\": {\n",
      "      \"hashtags\": [],\n",
      "      \"symbols\": [],\n",
      "      \"user_mentions\": [\n",
      "        {\n",
      "          \"screen_name\": \"BuliisaDistrict\",\n",
      "          \"name\": \"Buliisa district\",\n",
      "          \"id\": 3377196910,\n",
      "          \"id_str\": \"3377196910\",\n",
      "          \"indices\": [\n",
      "            12,\n",
      "            28\n",
      "          ]\n",
      "        }\n",
      "      ],\n",
      "      \"urls\": [\n",
      "        {\n",
      "          \"url\": \"https://t.co/0vHSX7A5hz\",\n",
      "          \"expanded_url\": \"https://twitter.com/i/web/status/1259844729082183682\",\n",
      "          \"display_url\": \"twitter.com/i/web/status/1\\u2026\",\n",
      "          \"indices\": [\n",
      "            117,\n",
      "            140\n",
      "          ]\n",
      "        }\n",
      "      ]\n",
      "    },\n",
      "    \"metadata\": {\n",
      "      \"iso_language_code\": \"en\",\n",
      "      \"result_type\": \"recent\"\n",
      "    },\n",
      "    \"source\": \"<a href=\\\"http://twitter.com/download/android\\\" rel=\\\"nofollow\\\">Twitter for Android</a>\",\n",
      "    \"in_reply_to_status_id\": null,\n",
      "    \"in_reply_to_status_id_str\": null,\n",
      "    \"in_reply_to_user_id\": null,\n",
      "    \"in_reply_to_user_id_str\": null,\n",
      "    \"in_reply_to_screen_name\": null,\n",
      "    \"user\": {\n",
      "      \"id\": 1089092515893051392,\n",
      "      \"id_str\": \"1089092515893051392\",\n",
      "      \"name\": \"Dr. Joyce Moriku Kaducu\",\n",
      "      \"screen_name\": \"MorikuJoyce\",\n",
      "      \"location\": \"Kampala, Uganda\",\n",
      "      \"description\": \"Wife. Mother. Doctor from Moyo.\\nMinister of State for Primary Health Care.\\nOpinions expressed are my own.\\nRetweets are not endorsements.\",\n",
      "      \"url\": \"https://t.co/oqiDVeEy70\",\n",
      "      \"entities\": {\n",
      "        \"url\": {\n",
      "          \"urls\": [\n",
      "            {\n",
      "              \"url\": \"https://t.co/oqiDVeEy70\",\n",
      "              \"expanded_url\": \"http://www.health.go.ug\",\n",
      "              \"display_url\": \"health.go.ug\",\n",
      "              \"indices\": [\n",
      "                0,\n",
      "                23\n",
      "              ]\n",
      "            }\n",
      "          ]\n",
      "        },\n",
      "        \"description\": {\n",
      "          \"urls\": []\n",
      "        }\n",
      "      },\n",
      "      \"protected\": false,\n",
      "      \"followers_count\": 2009,\n",
      "      \"friends_count\": 45,\n",
      "      \"listed_count\": 6,\n",
      "      \"created_at\": \"Sat Jan 26 09:27:44 +0000 2019\",\n",
      "      \"favourites_count\": 295,\n",
      "      \"utc_offset\": null,\n",
      "      \"time_zone\": null,\n",
      "      \"geo_enabled\": false,\n",
      "      \"verified\": false,\n",
      "      \"statuses_count\": 296,\n",
      "      \"lang\": null,\n",
      "      \"contributors_enabled\": false,\n",
      "      \"is_translator\": false,\n",
      "      \"is_translation_enabled\": false,\n",
      "      \"profile_background_color\": \"F5F8FA\",\n",
      "      \"profile_background_image_url\": null,\n",
      "      \"profile_background_image_url_https\": null,\n",
      "      \"profile_background_tile\": false,\n",
      "      \"profile_image_url\": \"http://pbs.twimg.com/profile_images/1258062361543340034/bQazuxev_normal.jpg\",\n",
      "      \"profile_image_url_https\": \"https://pbs.twimg.com/profile_images/1258062361543340034/bQazuxev_normal.jpg\",\n",
      "      \"profile_banner_url\": \"https://pbs.twimg.com/profile_banners/1089092515893051392/1589145060\",\n",
      "      \"profile_link_color\": \"1DA1F2\",\n",
      "      \"profile_sidebar_border_color\": \"C0DEED\",\n",
      "      \"profile_sidebar_fill_color\": \"DDEEF6\",\n",
      "      \"profile_text_color\": \"333333\",\n",
      "      \"profile_use_background_image\": true,\n",
      "      \"has_extended_profile\": false,\n",
      "      \"default_profile\": true,\n",
      "      \"default_profile_image\": false,\n",
      "      \"following\": null,\n",
      "      \"follow_request_sent\": null,\n",
      "      \"notifications\": null,\n",
      "      \"translator_type\": \"none\"\n",
      "    },\n",
      "    \"geo\": null,\n",
      "    \"coordinates\": null,\n",
      "    \"place\": null,\n",
      "    \"contributors\": null,\n",
      "    \"is_quote_status\": false,\n",
      "    \"retweet_count\": 8,\n",
      "    \"favorite_count\": 48,\n",
      "    \"favorited\": false,\n",
      "    \"retweeted\": false,\n",
      "    \"possibly_sensitive\": false,\n",
      "    \"lang\": \"en\"\n",
      "  },\n",
      "  \"is_quote_status\": false,\n",
      "  \"retweet_count\": 8,\n",
      "  \"favorite_count\": 0,\n",
      "  \"favorited\": false,\n",
      "  \"retweeted\": false,\n",
      "  \"lang\": \"en\"\n",
      "}\n"
     ]
    }
   ],
   "source": [
    "statuses = min_of_health_tweets['statuses'] + ug_covid_tweets['statuses']\n",
    "\n",
    "print(\"Length of statuses\", len(statuses))\n",
    "print(\"Sample tweet: \", json.dumps(statuses[2], indent=2))"
   ]
  },
  {
   "cell_type": "markdown",
   "metadata": {},
   "source": [
    "**Fields of a tweet/status**:\n",
    "- `created_at` : date and time on which the tweet was created\n",
    "- `id` and `id_str`: id of the tweet as an int and a string respectively\n",
    "- `text`: the text of the tweet\n",
    "- `entities`: an object containing some aspects of the tweet such as hashtags, symbols, user mentions, urls\n",
    "- `metadata`: an object containing the language of the tweet and the result_type\n",
    "- `source`: device from which the tweet came\n",
    "- `in_reply_to_status_id`, `in_reply_to_status_id_str`, `in_reply_to_user_id`, `in_reply_to_user_id_str` and `in_reply_to_screen_name`: If the tweet is a reply, these fields contain the status id and user id of the original tweet.\n",
    "- `user`: object which contains info about the user that tweeted this\n",
    "- `retweeted_status`: if this tweet has been retweeted, this field provides significant detail about the original tweet and the author\n",
    "- `geo`, `coordinates` and `place`: contains geographic information about the location of the tweet\n",
    "- `retweet_count` and `favorite_count`: how many times a tweet has been retweeted and favorited respectively. Helps to tell how popular a tweet is.\n",
    "- `lang`: the language of the tweet.\n",
    "\n",
    "Refer to the [documentation of a tweet object](https://developer.twitter.com/en/docs/tweets/data-dictionary/overview/tweet-object) for more info."
   ]
  },
  {
   "cell_type": "code",
   "execution_count": 59,
   "metadata": {},
   "outputs": [
    {
     "data": {
      "text/plain": [
       "dict_keys(['created_at', 'id', 'id_str', 'text', 'truncated', 'entities', 'metadata', 'source', 'in_reply_to_status_id', 'in_reply_to_status_id_str', 'in_reply_to_user_id', 'in_reply_to_user_id_str', 'in_reply_to_screen_name', 'user', 'geo', 'coordinates', 'place', 'contributors', 'retweeted_status', 'is_quote_status', 'retweet_count', 'favorite_count', 'favorited', 'retweeted', 'lang'])"
      ]
     },
     "execution_count": 59,
     "metadata": {},
     "output_type": "execute_result"
    }
   ],
   "source": [
    "tweet = statuses[3]\n",
    "\n",
    "# View the top-level fields for the tweet\n",
    "tweet.keys()"
   ]
  },
  {
   "cell_type": "code",
   "execution_count": 60,
   "metadata": {},
   "outputs": [
    {
     "data": {
      "text/plain": [
       "{'hashtags': [],\n",
       " 'symbols': [],\n",
       " 'user_mentions': [{'screen_name': 'MorikuJoyce',\n",
       "   'name': 'Dr. Joyce Moriku Kaducu',\n",
       "   'id': 1089092515893051392,\n",
       "   'id_str': '1089092515893051392',\n",
       "   'indices': [3, 15]}],\n",
       " 'urls': []}"
      ]
     },
     "execution_count": 60,
     "metadata": {},
     "output_type": "execute_result"
    }
   ],
   "source": [
    "# entities in a tweet\n",
    "tweet['entities']"
   ]
  },
  {
   "cell_type": "markdown",
   "metadata": {},
   "source": [
    "#### Some simple analysis (to view how to retrieve different entities in a tweet)"
   ]
  },
  {
   "cell_type": "code",
   "execution_count": 71,
   "metadata": {},
   "outputs": [
    {
     "name": "stdout",
     "output_type": "stream",
     "text": [
      "Sample tweet text:\n",
      " ['Today is International Nurses Day held under the theme “A voice to lead, Nursing the world to health” \\nNurses signi… https://t.co/JttTijlX8d', '“Hepatitis B Testing, Vaccination and Treatment Services have NOT been affected by lockdown. These services are FRE… https://t.co/SOjii5biZ3', 'RT @MorikuJoyce: My visit at @BuliisaDistrict Hospital.\\nHandwashing remains the No.1 tip for preventing the spread of Coronavirus (COVID-19…', 'RT @MorikuJoyce: Paid a courtesy call to Soroti Regional Referral Hospital. I appreciate the hard work and diligence of medical and non-med…', '🔹 Total samples tested today at @UVRIug : 2,854\\n#STAYSAFEUG'] \n",
      "\n",
      "\n",
      "Sample hash tags:\n",
      " ['STAYSAFEUG', 'SRHR', 'SafeAbortion', 'COVID19UG', 'COVID19UG'] \n",
      "\n",
      "\n",
      "Sample words:\n",
      " ['Today', 'is', 'International', 'Nurses', 'Day']\n"
     ]
    }
   ],
   "source": [
    "def get_hashtags():\n",
    "    return [hashtag['text'] for status in statuses for hashtag in status['entities']['hashtags']]\n",
    "\n",
    "def get_words():\n",
    "    # texts in all the tweets in the data above\n",
    "    status_texts = [status['text'] for status in statuses]\n",
    "    \n",
    "    return [word for text in status_texts for word in text.split()]\n",
    "\n",
    "# hashtags in the data above\n",
    "hash_tags = get_hashtags()\n",
    "\n",
    "# all words from all tweets\n",
    "words = get_words()\n",
    "\n",
    "print(\"Sample tweet text:\\n\", status_texts[0:5], \"\\n\\n\")\n",
    "print(\"Sample hash tags:\\n\", hash_tags[0:5], \"\\n\\n\")\n",
    "print(\"Sample words:\\n\", words[0:5])"
   ]
  },
  {
   "cell_type": "code",
   "execution_count": 72,
   "metadata": {
    "scrolled": true
   },
   "outputs": [
    {
     "name": "stdout",
     "output_type": "stream",
     "text": [
      "+------------+-------+\n",
      "| Word       | Count |\n",
      "+------------+-------+\n",
      "| to         |    76 |\n",
      "| the        |    71 |\n",
      "| of         |    61 |\n",
      "| RT         |    59 |\n",
      "| #COVID19UG |    50 |\n",
      "| a          |    30 |\n",
      "| have       |    25 |\n",
      "| total      |    23 |\n",
      "| national   |    23 |\n",
      "| task       |    23 |\n",
      "+------------+-------+\n",
      "+------------------------+-------+\n",
      "| Hashtag                | Count |\n",
      "+------------------------+-------+\n",
      "| COVID19UG              |    50 |\n",
      "| StayHome               |     5 |\n",
      "| KeepSafe               |     5 |\n",
      "| COVID19                |     5 |\n",
      "| HIV                    |     5 |\n",
      "| Aids                   |     5 |\n",
      "| socialprotection4Covid |     5 |\n",
      "| STAYSAFEUG             |     1 |\n",
      "| SRHR                   |     1 |\n",
      "| SafeAbortion           |     1 |\n",
      "+------------------------+-------+\n"
     ]
    }
   ],
   "source": [
    "# frequency analysis: print the 10 most common words and hashtags in the data we have above\n",
    "from collections import Counter\n",
    "from prettytable import PrettyTable\n",
    "\n",
    "def print_frequency_table(label, data):\n",
    "    pt = PrettyTable(field_names=[label, 'Count'])\n",
    "    c = Counter(data)\n",
    "    [pt.add_row(kv) for kv in c.most_common()[:10]]\n",
    "    pt.align[label], pt.align['Count'] = 'l', 'r' # left align label column, right align Count column\n",
    "    print(pt)\n",
    "\n",
    "print_frequency_table('Word', words)\n",
    "\n",
    "print_frequency_table('Hashtag', hash_tags)"
   ]
  },
  {
   "cell_type": "markdown",
   "metadata": {},
   "source": [
    "**Note**: Each request to the twitter api returns only 15 tweets, we can continue getting more tweets by using `next_results` field in the api response."
   ]
  },
  {
   "cell_type": "code",
   "execution_count": 68,
   "metadata": {},
   "outputs": [
    {
     "name": "stdout",
     "output_type": "stream",
     "text": [
      "Length of statuses: 30\n",
      "Length of statuses: 45\n",
      "Length of statuses: 60\n",
      "Length of statuses: 75\n",
      "Length of statuses: 90\n"
     ]
    }
   ],
   "source": [
    "from urllib.parse import unquote\n",
    "\n",
    "# Get 5 more batches of results and append them to the statuses list\n",
    "for _ in range(5):\n",
    "    print('Length of statuses:', len(statuses))\n",
    "    try:\n",
    "        next_results = ug_covid_tweets['search_metadata']['next_results']\n",
    "    except KeyError as e: # no more results when next_results doesn't exist\n",
    "        break\n",
    "    kwargs = dict([kv.split('=') for kv in unquote(next_results[1:]).split(\"&\")])\n",
    "    search_results = twitter_api.search.tweets(**kwargs)\n",
    "    statuses += search_results['statuses']"
   ]
  },
  {
   "cell_type": "code",
   "execution_count": 70,
   "metadata": {},
   "outputs": [
    {
     "name": "stdout",
     "output_type": "stream",
     "text": [
      "Length of statuses:  105\n"
     ]
    }
   ],
   "source": [
    "print(\"Length of statuses: \", len(statuses))"
   ]
  },
  {
   "cell_type": "code",
   "execution_count": 73,
   "metadata": {},
   "outputs": [
    {
     "name": "stdout",
     "output_type": "stream",
     "text": [
      "0\n"
     ]
    }
   ],
   "source": [
    "# Find out if there are tweets with location data\n",
    "num_of_tweets_with_loc_data = 0\n",
    "for status in statuses:\n",
    "    if status['geo'] is not None or status['coordinates'] or status['place'] is not None:\n",
    "        num_of_tweets_with_loc_data += 1\n",
    "print(num_of_tweets_with_loc_data)"
   ]
  },
  {
   "cell_type": "code",
   "execution_count": 74,
   "metadata": {},
   "outputs": [],
   "source": [
    "my_tweets = twitter_api.search.tweets(q=\"from:IsaacOwomugisha\")"
   ]
  },
  {
   "cell_type": "code",
   "execution_count": 75,
   "metadata": {},
   "outputs": [
    {
     "data": {
      "text/plain": [
       "5"
      ]
     },
     "execution_count": 75,
     "metadata": {},
     "output_type": "execute_result"
    }
   ],
   "source": [
    "len(my_tweets['statuses'])"
   ]
  },
  {
   "cell_type": "code",
   "execution_count": 84,
   "metadata": {},
   "outputs": [
    {
     "data": {
      "text/plain": [
       "(0, [])"
      ]
     },
     "execution_count": 84,
     "metadata": {},
     "output_type": "execute_result"
    }
   ],
   "source": [
    "def find_tweets_with_location_data(tweets):\n",
    "    _num = 0\n",
    "    loc_tweets = []\n",
    "    for status in tweets:\n",
    "        if status['geo'] is not None or status['coordinates'] or status['place'] is not None:\n",
    "            _num += 1\n",
    "            loc_tweets.append(status)\n",
    "    return _num, loc_tweets\n",
    "\n",
    "find_tweets_with_location_data(my_tweets['statuses'])"
   ]
  },
  {
   "cell_type": "code",
   "execution_count": 85,
   "metadata": {},
   "outputs": [
    {
     "name": "stdout",
     "output_type": "stream",
     "text": [
      "15\n"
     ]
    },
    {
     "data": {
      "text/plain": [
       "(1,\n",
       " [{'created_at': 'Wed May 13 08:52:50 +0000 2020',\n",
       "   'id': 1260493190718803974,\n",
       "   'id_str': '1260493190718803974',\n",
       "   'text': 'Looking forward to the Weekend #BellJamz #Enjoyments #NTVMixshow @ntvuganda @bell_lager @ Kampala, Uganda https://t.co/mLwWB6rYZO',\n",
       "   'truncated': False,\n",
       "   'entities': {'hashtags': [{'text': 'BellJamz', 'indices': [31, 40]},\n",
       "     {'text': 'Enjoyments', 'indices': [41, 52]},\n",
       "     {'text': 'NTVMixshow', 'indices': [53, 64]}],\n",
       "    'symbols': [],\n",
       "    'user_mentions': [{'screen_name': 'ntvuganda',\n",
       "      'name': 'NTV UGANDA',\n",
       "      'id': 109220563,\n",
       "      'id_str': '109220563',\n",
       "      'indices': [65, 75]},\n",
       "     {'screen_name': 'Bell_Lager',\n",
       "      'name': 'Bell Lager 🍻',\n",
       "      'id': 378450709,\n",
       "      'id_str': '378450709',\n",
       "      'indices': [76, 87]}],\n",
       "    'urls': [{'url': 'https://t.co/mLwWB6rYZO',\n",
       "      'expanded_url': 'https://www.instagram.com/p/CAHzzJQnXss/?igshid=u74eh4kypn6h',\n",
       "      'display_url': 'instagram.com/p/CAHzzJQnXss/…',\n",
       "      'indices': [106, 129]}]},\n",
       "   'metadata': {'iso_language_code': 'en', 'result_type': 'recent'},\n",
       "   'source': '<a href=\"http://instagram.com\" rel=\"nofollow\">Instagram</a>',\n",
       "   'in_reply_to_status_id': None,\n",
       "   'in_reply_to_status_id_str': None,\n",
       "   'in_reply_to_user_id': None,\n",
       "   'in_reply_to_user_id_str': None,\n",
       "   'in_reply_to_screen_name': None,\n",
       "   'user': {'id': 82837115,\n",
       "    'id_str': '82837115',\n",
       "    'name': 'DJ Bryan',\n",
       "    'screen_name': 'Deejay_Bryan',\n",
       "    'location': 'Kampala',\n",
       "    'description': 'IT Professional~Deejay & Technician @GuvnorUganda ~ VJ @ntvuganda @ntvthebeat #ntvmixshow Bookings deejaybryanug@gmail.com',\n",
       "    'url': 'https://t.co/ly44O3uIXR',\n",
       "    'entities': {'url': {'urls': [{'url': 'https://t.co/ly44O3uIXR',\n",
       "        'expanded_url': 'https://www.mixcloud.com/DeejayBryanug',\n",
       "        'display_url': 'mixcloud.com/DeejayBryanug',\n",
       "        'indices': [0, 23]}]},\n",
       "     'description': {'urls': []}},\n",
       "    'protected': False,\n",
       "    'followers_count': 47996,\n",
       "    'friends_count': 2060,\n",
       "    'listed_count': 33,\n",
       "    'created_at': 'Fri Oct 16 09:12:32 +0000 2009',\n",
       "    'favourites_count': 22516,\n",
       "    'utc_offset': None,\n",
       "    'time_zone': None,\n",
       "    'geo_enabled': True,\n",
       "    'verified': False,\n",
       "    'statuses_count': 23074,\n",
       "    'lang': None,\n",
       "    'contributors_enabled': False,\n",
       "    'is_translator': False,\n",
       "    'is_translation_enabled': False,\n",
       "    'profile_background_color': '1D2635',\n",
       "    'profile_background_image_url': 'http://abs.twimg.com/images/themes/theme9/bg.gif',\n",
       "    'profile_background_image_url_https': 'https://abs.twimg.com/images/themes/theme9/bg.gif',\n",
       "    'profile_background_tile': False,\n",
       "    'profile_image_url': 'http://pbs.twimg.com/profile_images/1236025482124148736/hUlmPBOI_normal.jpg',\n",
       "    'profile_image_url_https': 'https://pbs.twimg.com/profile_images/1236025482124148736/hUlmPBOI_normal.jpg',\n",
       "    'profile_banner_url': 'https://pbs.twimg.com/profile_banners/82837115/1539394274',\n",
       "    'profile_link_color': '21366E',\n",
       "    'profile_sidebar_border_color': '91936A',\n",
       "    'profile_sidebar_fill_color': '229931',\n",
       "    'profile_text_color': '500600',\n",
       "    'profile_use_background_image': True,\n",
       "    'has_extended_profile': True,\n",
       "    'default_profile': False,\n",
       "    'default_profile_image': False,\n",
       "    'following': None,\n",
       "    'follow_request_sent': None,\n",
       "    'notifications': None,\n",
       "    'translator_type': 'none'},\n",
       "   'geo': {'type': 'Point', 'coordinates': [0.3136, 32.5811]},\n",
       "   'coordinates': {'type': 'Point', 'coordinates': [32.5811, 0.3136]},\n",
       "   'place': {'id': '000c69ad123213a8',\n",
       "    'url': 'https://api.twitter.com/1.1/geo/id/000c69ad123213a8.json',\n",
       "    'place_type': 'admin',\n",
       "    'name': 'Kampala',\n",
       "    'full_name': 'Kampala, Uganda',\n",
       "    'country_code': 'UG',\n",
       "    'country': 'Uganda',\n",
       "    'contained_within': [],\n",
       "    'bounding_box': {'type': 'Polygon',\n",
       "     'coordinates': [[[32.4166234, 0.1648531],\n",
       "       [32.7216969, 0.1648531],\n",
       "       [32.7216969, 0.4136818],\n",
       "       [32.4166234, 0.4136818]]]},\n",
       "    'attributes': {}},\n",
       "   'contributors': None,\n",
       "   'is_quote_status': False,\n",
       "   'retweet_count': 2,\n",
       "   'favorite_count': 7,\n",
       "   'favorited': False,\n",
       "   'retweeted': False,\n",
       "   'possibly_sensitive': False,\n",
       "   'lang': 'en'}])"
      ]
     },
     "execution_count": 85,
     "metadata": {},
     "output_type": "execute_result"
    }
   ],
   "source": [
    "kampala_tweets = twitter_api.search.tweets(q=\"Kampala\")\n",
    "print(len(kampala_tweets['statuses']))\n",
    "find_tweets_with_location_data(kampala_tweets['statuses'])"
   ]
  }
 ],
 "metadata": {
  "kernelspec": {
   "display_name": "Python 3",
   "language": "python",
   "name": "python3"
  },
  "language_info": {
   "codemirror_mode": {
    "name": "ipython",
    "version": 3
   },
   "file_extension": ".py",
   "mimetype": "text/x-python",
   "name": "python",
   "nbconvert_exporter": "python",
   "pygments_lexer": "ipython3",
   "version": "3.8.2"
  }
 },
 "nbformat": 4,
 "nbformat_minor": 4
}
