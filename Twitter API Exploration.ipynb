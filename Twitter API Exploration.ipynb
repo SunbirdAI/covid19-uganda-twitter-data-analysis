{
 "cells": [
  {
   "cell_type": "code",
   "execution_count": 10,
   "metadata": {},
   "outputs": [],
   "source": [
    "import twitter\n",
    "import os\n",
    "from dotenv import load_dotenv\n",
    "load_dotenv()\n",
    "\n",
    "# Authentication\n",
    "API_KEY = os.getenv(\"TWITTER_API_KEY\")\n",
    "API_SECRET = os.getenv(\"TWITTER_API_SECRET\")\n",
    "\n",
    "auth = twitter.oauth.OAuth(\"\", \"\", API_KEY, API_SECRET)\n",
    "\n",
    "twitter_api = twitter.Twitter(auth=auth)"
   ]
  },
  {
   "cell_type": "code",
   "execution_count": 35,
   "metadata": {
    "scrolled": true
   },
   "outputs": [],
   "source": [
    "# get tweets related to covid19 in uganda using the search query \"COVID19UG\"\n",
    "ug_covid_tweets = twitter_api.search.tweets(q=\"COVID19UG\")"
   ]
  },
  {
   "cell_type": "code",
   "execution_count": 40,
   "metadata": {},
   "outputs": [],
   "source": [
    "import json\n",
    "\n",
    "# pretty print the json returned above. uncomment this to view the tweets\n",
    "# print(json.dumps(ug_covid_tweets, indent=2))"
   ]
  },
  {
   "cell_type": "code",
   "execution_count": null,
   "metadata": {},
   "outputs": [],
   "source": []
  }
 ],
 "metadata": {
  "kernelspec": {
   "display_name": "Python 3",
   "language": "python",
   "name": "python3"
  },
  "language_info": {
   "codemirror_mode": {
    "name": "ipython",
    "version": 3
   },
   "file_extension": ".py",
   "mimetype": "text/x-python",
   "name": "python",
   "nbconvert_exporter": "python",
   "pygments_lexer": "ipython3",
   "version": "3.8.2"
  }
 },
 "nbformat": 4,
 "nbformat_minor": 4
}
