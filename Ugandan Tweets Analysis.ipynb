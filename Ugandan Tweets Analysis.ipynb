{
 "cells": [
  {
   "cell_type": "code",
   "execution_count": 118,
   "metadata": {},
   "outputs": [],
   "source": [
    "import pandas as pd\n",
    "import numpy as np\n",
    "import matplotlib.pyplot as plt\n",
    "import seaborn as sns\n",
    "import dateutil\n",
    "import matplotlib.ticker as plticker\n",
    "\n",
    "from data_collection.analysis.utils import get_tweets_from_json_file, is_covid_related_tweet, get_tweet_words\n",
    "from data_collection.analysis import visualizations as vz"
   ]
  },
  {
   "cell_type": "code",
   "execution_count": 3,
   "metadata": {},
   "outputs": [],
   "source": [
    "tweets = get_tweets_from_json_file(\"ug_tweets\")"
   ]
  },
  {
   "cell_type": "code",
   "execution_count": 4,
   "metadata": {},
   "outputs": [
    {
     "name": "stdout",
     "output_type": "stream",
     "text": [
      "20000\n"
     ]
    }
   ],
   "source": [
    "print(len(tweets))"
   ]
  },
  {
   "cell_type": "code",
   "execution_count": 108,
   "metadata": {},
   "outputs": [],
   "source": [
    "def process_tweet(tweet: dict) -> dict:\n",
    "    \"\"\"Process tweets from raw files\"\"\"\n",
    "    user_id = tweet['author_id']\n",
    "    tweet_id = tweet['id']\n",
    "    created_time = dateutil.parser.parse(tweet['created_at']).replace(tzinfo=None)\n",
    "    text = tweet['text']\n",
    "    words = get_tweet_words(text)\n",
    "    retweet_count = tweet['public_metrics']['retweet_count']\n",
    "    reply_count = tweet['public_metrics']['reply_count']\n",
    "    quote_count = tweet['public_metrics']['quote_count']\n",
    "    like_count = tweet['public_metrics']['like_count']\n",
    "    engagement = retweet_count + reply_count + quote_count + like_count\n",
    "    is_covid = is_covid_related_tweet(words)\n",
    "    source = tweet['source']\n",
    "\n",
    "    return {\n",
    "        'user_id': user_id,\n",
    "        'tweet_id': tweet_id,\n",
    "        'created_time': created_time,\n",
    "        'text': text,\n",
    "        'words': words,\n",
    "        'retweet_count': retweet_count,\n",
    "        'reply_count': reply_count,\n",
    "        'quote_count': quote_count,\n",
    "        'like_count': like_count,\n",
    "        'engagement': engagement,\n",
    "        'is_covid': is_covid,\n",
    "        'source': source\n",
    "    }\n",
    "\n",
    "\n",
    "def create_pd_from_tweets(tweets) -> pd.DataFrame:\n",
    "    df = pd.DataFrame([process_tweet(tweet) for tweet in tweets])\n",
    "#     df.set_index('created_time', inplace=True)\n",
    "    return df"
   ]
  },
  {
   "cell_type": "code",
   "execution_count": 109,
   "metadata": {},
   "outputs": [],
   "source": [
    "df = create_pd_from_tweets(tweets)\n",
    "df['created_time'] = pd.to_datetime(df['created_time'], errors='coerce').dt.date"
   ]
  },
  {
   "cell_type": "code",
   "execution_count": 110,
   "metadata": {},
   "outputs": [
    {
     "data": {
      "text/html": [
       "<div>\n",
       "<style scoped>\n",
       "    .dataframe tbody tr th:only-of-type {\n",
       "        vertical-align: middle;\n",
       "    }\n",
       "\n",
       "    .dataframe tbody tr th {\n",
       "        vertical-align: top;\n",
       "    }\n",
       "\n",
       "    .dataframe thead th {\n",
       "        text-align: right;\n",
       "    }\n",
       "</style>\n",
       "<table border=\"1\" class=\"dataframe\">\n",
       "  <thead>\n",
       "    <tr style=\"text-align: right;\">\n",
       "      <th></th>\n",
       "      <th>user_id</th>\n",
       "      <th>tweet_id</th>\n",
       "      <th>created_time</th>\n",
       "      <th>text</th>\n",
       "      <th>words</th>\n",
       "      <th>retweet_count</th>\n",
       "      <th>reply_count</th>\n",
       "      <th>quote_count</th>\n",
       "      <th>like_count</th>\n",
       "      <th>engagement</th>\n",
       "      <th>is_covid</th>\n",
       "      <th>source</th>\n",
       "    </tr>\n",
       "  </thead>\n",
       "  <tbody>\n",
       "    <tr>\n",
       "      <th>0</th>\n",
       "      <td>628614226</td>\n",
       "      <td>1366176238373634048</td>\n",
       "      <td>2021-02-28</td>\n",
       "      <td>Happy New month https://t.co/4QRUVHFiw2</td>\n",
       "      <td>[happy, month]</td>\n",
       "      <td>2</td>\n",
       "      <td>7</td>\n",
       "      <td>0</td>\n",
       "      <td>183</td>\n",
       "      <td>192</td>\n",
       "      <td>False</td>\n",
       "      <td>Twitter for Android</td>\n",
       "    </tr>\n",
       "    <tr>\n",
       "      <th>1</th>\n",
       "      <td>1169513881489858561</td>\n",
       "      <td>1366176080260976647</td>\n",
       "      <td>2021-02-28</td>\n",
       "      <td>RT @macyjemi: Anyone awake 🧐??\\n I want us to ...</td>\n",
       "      <td>[anyone, awake, want, talk, something, urgent]</td>\n",
       "      <td>3</td>\n",
       "      <td>0</td>\n",
       "      <td>0</td>\n",
       "      <td>0</td>\n",
       "      <td>3</td>\n",
       "      <td>False</td>\n",
       "      <td>Twitter for Android</td>\n",
       "    </tr>\n",
       "    <tr>\n",
       "      <th>2</th>\n",
       "      <td>894261468</td>\n",
       "      <td>1366175958970093568</td>\n",
       "      <td>2021-02-28</td>\n",
       "      <td>RT @ssenfukamalik: Members of Majlis Khuddamul...</td>\n",
       "      <td>[members, majlis, khuddamul, ahmadiyya, uganda...</td>\n",
       "      <td>13</td>\n",
       "      <td>0</td>\n",
       "      <td>0</td>\n",
       "      <td>0</td>\n",
       "      <td>13</td>\n",
       "      <td>False</td>\n",
       "      <td>Twitter for iPhone</td>\n",
       "    </tr>\n",
       "    <tr>\n",
       "      <th>3</th>\n",
       "      <td>1284584639420600320</td>\n",
       "      <td>1366175795035729920</td>\n",
       "      <td>2021-02-28</td>\n",
       "      <td>Anyone awake 🧐??\\n I want us to talk something...</td>\n",
       "      <td>[anyone, awake, want, talk, something, urgent]</td>\n",
       "      <td>3</td>\n",
       "      <td>10</td>\n",
       "      <td>0</td>\n",
       "      <td>43</td>\n",
       "      <td>56</td>\n",
       "      <td>False</td>\n",
       "      <td>Twitter for Android</td>\n",
       "    </tr>\n",
       "    <tr>\n",
       "      <th>4</th>\n",
       "      <td>1284584639420600320</td>\n",
       "      <td>1366175439178366976</td>\n",
       "      <td>2021-02-28</td>\n",
       "      <td>@123rayrunner Naye gwe twakola loss 😂😂😂🤣🤣</td>\n",
       "      <td>[naye, twakola, loss, 😂😂😂🤣🤣]</td>\n",
       "      <td>0</td>\n",
       "      <td>1</td>\n",
       "      <td>0</td>\n",
       "      <td>2</td>\n",
       "      <td>3</td>\n",
       "      <td>False</td>\n",
       "      <td>Twitter for Android</td>\n",
       "    </tr>\n",
       "  </tbody>\n",
       "</table>\n",
       "</div>"
      ],
      "text/plain": [
       "               user_id             tweet_id created_time                                               text  ... like_count  engagement  is_covid               source\n",
       "0            628614226  1366176238373634048   2021-02-28            Happy New month https://t.co/4QRUVHFiw2  ...        183         192     False  Twitter for Android\n",
       "1  1169513881489858561  1366176080260976647   2021-02-28  RT @macyjemi: Anyone awake 🧐??\\n I want us to ...  ...          0           3     False  Twitter for Android\n",
       "2            894261468  1366175958970093568   2021-02-28  RT @ssenfukamalik: Members of Majlis Khuddamul...  ...          0          13     False   Twitter for iPhone\n",
       "3  1284584639420600320  1366175795035729920   2021-02-28  Anyone awake 🧐??\\n I want us to talk something...  ...         43          56     False  Twitter for Android\n",
       "4  1284584639420600320  1366175439178366976   2021-02-28          @123rayrunner Naye gwe twakola loss 😂😂😂🤣🤣  ...          2           3     False  Twitter for Android\n",
       "\n",
       "[5 rows x 12 columns]"
      ]
     },
     "execution_count": 110,
     "metadata": {},
     "output_type": "execute_result"
    }
   ],
   "source": [
    "df.head()"
   ]
  },
  {
   "cell_type": "code",
   "execution_count": 89,
   "metadata": {},
   "outputs": [
    {
     "name": "stdout",
     "output_type": "stream",
     "text": [
      "Number of tweets: 20000\n",
      "<class 'pandas.core.frame.DataFrame'>\n",
      "RangeIndex: 20000 entries, 0 to 19999\n",
      "Data columns (total 12 columns):\n",
      " #   Column         Non-Null Count  Dtype \n",
      "---  ------         --------------  ----- \n",
      " 0   user_id        20000 non-null  object\n",
      " 1   tweet_id       20000 non-null  object\n",
      " 2   created_time   20000 non-null  object\n",
      " 3   text           20000 non-null  object\n",
      " 4   words          20000 non-null  object\n",
      " 5   retweet_count  20000 non-null  int64 \n",
      " 6   reply_count    20000 non-null  int64 \n",
      " 7   quote_count    20000 non-null  int64 \n",
      " 8   like_count     20000 non-null  int64 \n",
      " 9   engagement     20000 non-null  int64 \n",
      " 10  is_covid       20000 non-null  bool  \n",
      " 11  source         20000 non-null  object\n",
      "dtypes: bool(1), int64(5), object(6)\n",
      "memory usage: 1.7+ MB\n",
      "Columns:\n",
      "None\n"
     ]
    }
   ],
   "source": [
    "vz.summary(df)"
   ]
  },
  {
   "cell_type": "code",
   "execution_count": 111,
   "metadata": {},
   "outputs": [],
   "source": [
    "covid_df = df[df['is_covid'] == True]"
   ]
  },
  {
   "cell_type": "code",
   "execution_count": 112,
   "metadata": {
    "scrolled": true
   },
   "outputs": [
    {
     "data": {
      "text/html": [
       "<div>\n",
       "<style scoped>\n",
       "    .dataframe tbody tr th:only-of-type {\n",
       "        vertical-align: middle;\n",
       "    }\n",
       "\n",
       "    .dataframe tbody tr th {\n",
       "        vertical-align: top;\n",
       "    }\n",
       "\n",
       "    .dataframe thead th {\n",
       "        text-align: right;\n",
       "    }\n",
       "</style>\n",
       "<table border=\"1\" class=\"dataframe\">\n",
       "  <thead>\n",
       "    <tr style=\"text-align: right;\">\n",
       "      <th></th>\n",
       "      <th>user_id</th>\n",
       "      <th>tweet_id</th>\n",
       "      <th>created_time</th>\n",
       "      <th>text</th>\n",
       "      <th>words</th>\n",
       "      <th>retweet_count</th>\n",
       "      <th>reply_count</th>\n",
       "      <th>quote_count</th>\n",
       "      <th>like_count</th>\n",
       "      <th>engagement</th>\n",
       "      <th>is_covid</th>\n",
       "      <th>source</th>\n",
       "    </tr>\n",
       "  </thead>\n",
       "  <tbody>\n",
       "    <tr>\n",
       "      <th>14</th>\n",
       "      <td>912204877757059072</td>\n",
       "      <td>1366170863561760768</td>\n",
       "      <td>2021-02-28</td>\n",
       "      <td>@ntvuganda Sheikh Muzata was killed, I'd doesn...</td>\n",
       "      <td>[sheikh, muzata, killed, need, bishop, archbis...</td>\n",
       "      <td>0</td>\n",
       "      <td>0</td>\n",
       "      <td>0</td>\n",
       "      <td>0</td>\n",
       "      <td>0</td>\n",
       "      <td>True</td>\n",
       "      <td>Twitter for Android</td>\n",
       "    </tr>\n",
       "    <tr>\n",
       "      <th>492</th>\n",
       "      <td>1346361755593814017</td>\n",
       "      <td>1366126207612448772</td>\n",
       "      <td>2021-02-28</td>\n",
       "      <td>@Rociwells2021 @karmajusticiera @PODEMOS @nach...</td>\n",
       "      <td>[llevas, toda, razón, pero, necesitas, twitter...</td>\n",
       "      <td>0</td>\n",
       "      <td>0</td>\n",
       "      <td>0</td>\n",
       "      <td>0</td>\n",
       "      <td>0</td>\n",
       "      <td>True</td>\n",
       "      <td>Twitter for Android</td>\n",
       "    </tr>\n",
       "    <tr>\n",
       "      <th>1507</th>\n",
       "      <td>1246539661306138630</td>\n",
       "      <td>1366093048489336833</td>\n",
       "      <td>2021-02-28</td>\n",
       "      <td>RT @douglasrasbash: @TheRealRuncey @SkyNews Tr...</td>\n",
       "      <td>[true, covid, graves, prepared, outside, paulo]</td>\n",
       "      <td>1</td>\n",
       "      <td>0</td>\n",
       "      <td>0</td>\n",
       "      <td>0</td>\n",
       "      <td>1</td>\n",
       "      <td>True</td>\n",
       "      <td>Twitter for iPhone</td>\n",
       "    </tr>\n",
       "    <tr>\n",
       "      <th>1764</th>\n",
       "      <td>2184672177</td>\n",
       "      <td>1366084886696783872</td>\n",
       "      <td>2021-02-28</td>\n",
       "      <td>RT @douglasrasbash: @Elliemaexx__ @SkyNews Abo...</td>\n",
       "      <td>[virus, mutations, recorded, whether, fear, co...</td>\n",
       "      <td>1</td>\n",
       "      <td>0</td>\n",
       "      <td>0</td>\n",
       "      <td>0</td>\n",
       "      <td>1</td>\n",
       "      <td>True</td>\n",
       "      <td>Twitter for iPhone</td>\n",
       "    </tr>\n",
       "    <tr>\n",
       "      <th>1778</th>\n",
       "      <td>1013221658</td>\n",
       "      <td>1366084217445249024</td>\n",
       "      <td>2021-02-28</td>\n",
       "      <td>@Elliemaexx__ @SkyNews About 40 virus mutation...</td>\n",
       "      <td>[virus, mutations, recorded, whether, fear, co...</td>\n",
       "      <td>1</td>\n",
       "      <td>0</td>\n",
       "      <td>0</td>\n",
       "      <td>3</td>\n",
       "      <td>4</td>\n",
       "      <td>True</td>\n",
       "      <td>Twitter for iPhone</td>\n",
       "    </tr>\n",
       "  </tbody>\n",
       "</table>\n",
       "</div>"
      ],
      "text/plain": [
       "                  user_id             tweet_id created_time                                               text  ... like_count  engagement  is_covid               source\n",
       "14     912204877757059072  1366170863561760768   2021-02-28  @ntvuganda Sheikh Muzata was killed, I'd doesn...  ...          0           0      True  Twitter for Android\n",
       "492   1346361755593814017  1366126207612448772   2021-02-28  @Rociwells2021 @karmajusticiera @PODEMOS @nach...  ...          0           0      True  Twitter for Android\n",
       "1507  1246539661306138630  1366093048489336833   2021-02-28  RT @douglasrasbash: @TheRealRuncey @SkyNews Tr...  ...          0           1      True   Twitter for iPhone\n",
       "1764           2184672177  1366084886696783872   2021-02-28  RT @douglasrasbash: @Elliemaexx__ @SkyNews Abo...  ...          0           1      True   Twitter for iPhone\n",
       "1778           1013221658  1366084217445249024   2021-02-28  @Elliemaexx__ @SkyNews About 40 virus mutation...  ...          3           4      True   Twitter for iPhone\n",
       "\n",
       "[5 rows x 12 columns]"
      ]
     },
     "execution_count": 112,
     "metadata": {},
     "output_type": "execute_result"
    }
   ],
   "source": [
    "covid_df.head()"
   ]
  },
  {
   "cell_type": "code",
   "execution_count": 116,
   "metadata": {},
   "outputs": [
    {
     "name": "stdout",
     "output_type": "stream",
     "text": [
      "Number of COVID tweets: 38\n"
     ]
    },
    {
     "data": {
      "image/png": "[encoded data removed]",
      "text/plain": [
       "<Figure size 864x504 with 1 Axes>"
      ]
     },
     "metadata": {
      "needs_background": "light"
     },
     "output_type": "display_data"
    }
   ],
   "source": [
    "def summarise_covid_tweets(covid_df: pd.DataFrame, mode=\"moh\"):\n",
    "    print(f\"Number of COVID tweets: {covid_df.shape[0]}\")\n",
    "\n",
    "    daily_covid = covid_df['tweet_id'].groupby([covid_df['created_time']]).count()\n",
    "    ax = daily_covid.plot(figsize=(12, 7))\n",
    "    ax.set(ylabel=\"Tweet counts\")\n",
    "    ax.set(xlabel=\"Date\")\n",
    "\n",
    "    plt.show()\n",
    "\n",
    "summarise_covid_tweets(covid_df)"
   ]
  },
  {
   "cell_type": "code",
   "execution_count": 125,
   "metadata": {},
   "outputs": [
    {
     "data": {
      "text/plain": [
       "<seaborn.axisgrid.FacetGrid at 0x179be6660d0>"
      ]
     },
     "execution_count": 125,
     "metadata": {},
     "output_type": "execute_result"
    },
    {
     "data": {
      "image/png": "[encoded data removed]",
      "text/plain": [
       "<Figure size 1746.05x595.44 with 2 Axes>"
      ]
     },
     "metadata": {
      "needs_background": "light"
     },
     "output_type": "display_data"
    }
   ],
   "source": [
    "# _, axes = plt.subplots(nrows=1, ncols=1, figsize=(12, 8)\n",
    "g = sns.displot(df, x=\"created_time\", hue=\"is_covid\", col='is_covid', height=8.27, aspect=11.7/8.27)\n",
    "x_dates = df['created_time'].sort_values().unique()\n",
    "# g.set_xticklabels(labels=x_dates, rotation=45, horizontalalignment='right')\n",
    "g.set(xticks=x_dates)\n",
    "# g.fig.autofmt_xdate()"
   ]
  },
  {
   "cell_type": "code",
   "execution_count": null,
   "metadata": {},
   "outputs": [],
   "source": []
  }
 ],
 "metadata": {
  "kernelspec": {
   "display_name": "Python 3",
   "language": "python",
   "name": "python3"
  },
  "language_info": {
   "codemirror_mode": {
    "name": "ipython",
    "version": 3
   },
   "file_extension": ".py",
   "mimetype": "text/x-python",
   "name": "python",
   "nbconvert_exporter": "python",
   "pygments_lexer": "ipython3",
   "version": "3.8.6"
  }
 },
 "nbformat": 4,
 "nbformat_minor": 4
}
