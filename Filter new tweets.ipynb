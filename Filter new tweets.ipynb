{
 "cells": [
  {
   "cell_type": "markdown",
   "metadata": {},
   "source": [
    "## Filter Twitter data to add new tweets.\n",
    "\n",
    "This notebook refers to a Google sheet with a list of tweets, and compares with a dump of tweets in json format to find which should be added.\n",
    "\n"
   ]
  },
  {
   "cell_type": "code",
   "execution_count": 1,
   "metadata": {},
   "outputs": [],
   "source": [
    "import io\n",
    "import json\n",
    "import numpy as np\n",
    "import matplotlib.pyplot as plt\n",
    "import pandas as pd\n",
    "from typing import List\n",
    "from IPython.display import display, HTML\n",
    "from ReadTweetsFromJson import get_tweets_from_json_file"
   ]
  },
  {
   "cell_type": "markdown",
   "metadata": {},
   "source": [
    "Details of the sheet used for annotating tweets."
   ]
  },
  {
   "cell_type": "code",
   "execution_count": 2,
   "metadata": {},
   "outputs": [],
   "source": [
    "KEY = '1qKYUxq_UrUFJy45r5KGuXp6gq-2ZF_VDb6-e7tWagwA'\n",
    "SHEET_NAME = 'Analysis'"
   ]
  },
  {
   "cell_type": "markdown",
   "metadata": {},
   "source": [
    "Helper functions for reading the existing tweets in the sheet, and filtering new ones that have not yet been included."
   ]
  },
  {
   "cell_type": "code",
   "execution_count": 3,
   "metadata": {},
   "outputs": [],
   "source": [
    "def get_already_processed(key: str, sheet_name: str) -> set:\n",
    "    '''Returns the IDs of tweets that are already in the analysis.'''\n",
    "    csv_url = (f'https://docs.google.com/spreadsheets/d/{key}'\n",
    "               f'/gviz/tq?tqx=out:csv&sheet={sheet_name}')\n",
    "    df = pd.read_csv(csv_url)\n",
    "    already_processed = set(df['Tweet ID'])\n",
    "    return already_processed\n",
    "\n",
    "def is_interesting(tweet: dict) -> bool:\n",
    "    '''Applies simple filtering criteria to a tweet.'''\n",
    "    text = tweet.get('full_text') or tweet.get('text')\n",
    "    if not text:\n",
    "        return False\n",
    "    is_retweet = 'retweeted_status' in tweet\n",
    "    contains_url = len(tweet['entities']['urls']) > 0\n",
    "    return not (is_retweet or contains_url)\n",
    "    \n",
    "def get_new_tweets(tweets, already_processed) -> pd.DataFrame:\n",
    "    '''Returns the tweets which are interesting and not yet included.'''\n",
    "    new_tweets = pd.DataFrame()\n",
    "    for tweet in tweets:\n",
    "        text = tweet.get('full_text') or tweet.get('text')\n",
    "        if is_interesting(tweet) and tweet['id'] not in already_processed:\n",
    "            new_tweets = new_tweets.append(\n",
    "                {'text': text,\n",
    "                 'id': str(tweet['id']),\n",
    "                 'time': tweet['created_at']},\n",
    "                ignore_index=True)\n",
    "            already_processed.add(tweet['id'])\n",
    "    new_tweets.id = new_tweets.id.astype('int64')\n",
    "    return new_tweets\n",
    "            \n",
    "def get_excluded_tweets(tweets: List[dict]) -> pd.DataFrame:\n",
    "    '''Returns all tweets that were excluded.'''\n",
    "    excluded_tweets = pd.DataFrame()\n",
    "    for tweet in tweets:\n",
    "        if not is_interesting(tweet):\n",
    "            excluded_tweets = excluded_tweets.append(\n",
    "                {'text': tweet.get('full_text') or tweet.get('text'),\n",
    "                 'id': str(tweet['id']),\n",
    "                 'time': tweet['created_at']},\n",
    "                ignore_index=True)  \n",
    "    excluded_tweets.id = excluded_tweets.id.astype('int64')\n",
    "    return excluded_tweets"
   ]
  },
  {
   "cell_type": "markdown",
   "metadata": {},
   "source": [
    "Process a dump of tweets and save files with the new tweets to be added, and those which were discarded as not interesting."
   ]
  },
  {
   "cell_type": "code",
   "execution_count": 6,
   "metadata": {},
   "outputs": [],
   "source": [
    "JSON_PATH = 'mask_tweets_v3.json'\n",
    "\n",
    "tweets = get_tweets_from_json_file(JSON_PATH)\n",
    "already_processed = get_already_processed(KEY, SHEET_NAME)\n",
    "new_tweets = get_new_tweets(tweets, already_processed)\n",
    "excluded_tweets = get_excluded_tweets(tweets)"
   ]
  },
  {
   "cell_type": "code",
   "execution_count": 7,
   "metadata": {},
   "outputs": [
    {
     "data": {
      "text/html": [
       "<div>\n",
       "<style scoped>\n",
       "    .dataframe tbody tr th:only-of-type {\n",
       "        vertical-align: middle;\n",
       "    }\n",
       "\n",
       "    .dataframe tbody tr th {\n",
       "        vertical-align: top;\n",
       "    }\n",
       "\n",
       "    .dataframe thead th {\n",
       "        text-align: right;\n",
       "    }\n",
       "</style>\n",
       "<table border=\"1\" class=\"dataframe\">\n",
       "  <thead>\n",
       "    <tr style=\"text-align: right;\">\n",
       "      <th></th>\n",
       "      <th>id</th>\n",
       "      <th>text</th>\n",
       "      <th>time</th>\n",
       "    </tr>\n",
       "  </thead>\n",
       "  <tbody>\n",
       "    <tr>\n",
       "      <th>0</th>\n",
       "      <td>1264604378926854149</td>\n",
       "      <td>If we continue wearing  masks for the next 5 y...</td>\n",
       "      <td>Sun May 24 17:09:13 +0000 2020</td>\n",
       "    </tr>\n",
       "    <tr>\n",
       "      <th>1</th>\n",
       "      <td>1264596330594406403</td>\n",
       "      <td>So Am Not Waiting For The Government Masks.\\n\\...</td>\n",
       "      <td>Sun May 24 16:37:14 +0000 2020</td>\n",
       "    </tr>\n",
       "    <tr>\n",
       "      <th>2</th>\n",
       "      <td>1264496902122414080</td>\n",
       "      <td>Proverbs 4:9 She shall give to your head a wre...</td>\n",
       "      <td>Sun May 24 10:02:09 +0000 2020</td>\n",
       "    </tr>\n",
       "    <tr>\n",
       "      <th>3</th>\n",
       "      <td>1264481519847997441</td>\n",
       "      <td>Mask by @PichieK84. #COVID19UG #StaySafeUg htt...</td>\n",
       "      <td>Sun May 24 09:01:01 +0000 2020</td>\n",
       "    </tr>\n",
       "    <tr>\n",
       "      <th>4</th>\n",
       "      <td>1264342526565265409</td>\n",
       "      <td>@maureennantume1 says stay safe, keep your dis...</td>\n",
       "      <td>Sat May 23 23:48:43 +0000 2020</td>\n",
       "    </tr>\n",
       "    <tr>\n",
       "      <th>...</th>\n",
       "      <td>...</td>\n",
       "      <td>...</td>\n",
       "      <td>...</td>\n",
       "    </tr>\n",
       "    <tr>\n",
       "      <th>1259</th>\n",
       "      <td>1264503666075226112</td>\n",
       "      <td>@amiyo90 Finally you are on the bird app</td>\n",
       "      <td>Sun May 24 10:29:01 +0000 2020</td>\n",
       "    </tr>\n",
       "    <tr>\n",
       "      <th>1260</th>\n",
       "      <td>1263926887497314310</td>\n",
       "      <td>@Innocentt_T Govt pays its suppliers</td>\n",
       "      <td>Fri May 22 20:17:07 +0000 2020</td>\n",
       "    </tr>\n",
       "    <tr>\n",
       "      <th>1261</th>\n",
       "      <td>1263776889275125762</td>\n",
       "      <td>@SherryKyama Is this necessary, really? https:...</td>\n",
       "      <td>Fri May 22 10:21:04 +0000 2020</td>\n",
       "    </tr>\n",
       "    <tr>\n",
       "      <th>1262</th>\n",
       "      <td>1263754332606009344</td>\n",
       "      <td>@rarrigz Man we fail to understand. Masks help...</td>\n",
       "      <td>Fri May 22 08:51:26 +0000 2020</td>\n",
       "    </tr>\n",
       "    <tr>\n",
       "      <th>1263</th>\n",
       "      <td>1263519154470035458</td>\n",
       "      <td>@SoftPowerNews So I am not allowed to use my N...</td>\n",
       "      <td>Thu May 21 17:16:56 +0000 2020</td>\n",
       "    </tr>\n",
       "  </tbody>\n",
       "</table>\n",
       "<p>1264 rows × 3 columns</p>\n",
       "</div>"
      ],
      "text/plain": [
       "                       id                                               text  \\\n",
       "0     1264604378926854149  If we continue wearing  masks for the next 5 y...   \n",
       "1     1264596330594406403  So Am Not Waiting For The Government Masks.\\n\\...   \n",
       "2     1264496902122414080  Proverbs 4:9 She shall give to your head a wre...   \n",
       "3     1264481519847997441  Mask by @PichieK84. #COVID19UG #StaySafeUg htt...   \n",
       "4     1264342526565265409  @maureennantume1 says stay safe, keep your dis...   \n",
       "...                   ...                                                ...   \n",
       "1259  1264503666075226112           @amiyo90 Finally you are on the bird app   \n",
       "1260  1263926887497314310               @Innocentt_T Govt pays its suppliers   \n",
       "1261  1263776889275125762  @SherryKyama Is this necessary, really? https:...   \n",
       "1262  1263754332606009344  @rarrigz Man we fail to understand. Masks help...   \n",
       "1263  1263519154470035458  @SoftPowerNews So I am not allowed to use my N...   \n",
       "\n",
       "                                time  \n",
       "0     Sun May 24 17:09:13 +0000 2020  \n",
       "1     Sun May 24 16:37:14 +0000 2020  \n",
       "2     Sun May 24 10:02:09 +0000 2020  \n",
       "3     Sun May 24 09:01:01 +0000 2020  \n",
       "4     Sat May 23 23:48:43 +0000 2020  \n",
       "...                              ...  \n",
       "1259  Sun May 24 10:29:01 +0000 2020  \n",
       "1260  Fri May 22 20:17:07 +0000 2020  \n",
       "1261  Fri May 22 10:21:04 +0000 2020  \n",
       "1262  Fri May 22 08:51:26 +0000 2020  \n",
       "1263  Thu May 21 17:16:56 +0000 2020  \n",
       "\n",
       "[1264 rows x 3 columns]"
      ]
     },
     "execution_count": 7,
     "metadata": {},
     "output_type": "execute_result"
    }
   ],
   "source": [
    "new_tweets"
   ]
  },
  {
   "cell_type": "code",
   "execution_count": 8,
   "metadata": {},
   "outputs": [],
   "source": [
    "# Re-order columns to match order in spreadsheet\n",
    "cols = ['id', 'time', 'text']\n",
    "new_tweets = new_tweets[cols]\n",
    "excluded_tweets = new_tweets[cols]\n",
    "\n",
    "# Create csv files without the index column for easy merging with the spreadsheet \n",
    "new_tweets.to_csv('new.csv', index=False)\n",
    "excluded_tweets.to_csv('excluded.csv', index=False)"
   ]
  },
  {
   "cell_type": "markdown",
   "metadata": {},
   "source": [
    "## Analysis\n",
    "\n",
    "Get the breakdown of messages per category, and sample messages."
   ]
  },
  {
   "cell_type": "code",
   "execution_count": 9,
   "metadata": {},
   "outputs": [],
   "source": [
    "sheet_name = 'Combined'\n",
    "csv_url = (f'https://docs.google.com/spreadsheets/d/{KEY}'\n",
    "           f'/gviz/tq?tqx=out:csv&sheet={sheet_name}')\n",
    "df = pd.read_csv(csv_url)"
   ]
  },
  {
   "cell_type": "code",
   "execution_count": 10,
   "metadata": {},
   "outputs": [
    {
     "data": {
      "image/png": "[encoded data removed]",
      "text/plain": [
       "<Figure size 720x720 with 1 Axes>"
      ]
     },
     "metadata": {
      "needs_background": "light"
     },
     "output_type": "display_data"
    }
   ],
   "source": [
    "sunbird_orange = '#dc7828'\n",
    "sunbird_font = {'fontname':'Roboto'}\n",
    "square_size = int(np.sqrt(len(df))) + 1\n",
    "\n",
    "for y in range(square_size):\n",
    "    for x in range(square_size):\n",
    "        index = (y * square_size) + x + 1\n",
    "        if index > len(df):\n",
    "            color = 'w'\n",
    "        else:\n",
    "            color = '#888888'\n",
    "        plt.plot(x, y,\n",
    "                 markersize=5,\n",
    "                 marker='o',\n",
    "                 color=color,\n",
    "                 markeredgecolor=None) \n",
    "\n",
    "plt.axis('square')\n",
    "plt.axis('off')\n",
    "plt.xlim(-.2, square_size)\n",
    "plt.ylim(-.2, square_size)\n",
    "plt.gcf().set_size_inches(10, 10)\n",
    "plt.title(f'{len(df)} tweets about #masks',\n",
    "          loc='left', fontsize=32, **sunbird_font)\n",
    "plt.savefig(f'images/all.png', dpi=150, bbox_inches='tight')"
   ]
  },
  {
   "cell_type": "code",
   "execution_count": 11,
   "metadata": {},
   "outputs": [
    {
     "data": {
      "image/png": "[encoded data removed]",
      "text/plain": [
       "<Figure size 720x720 with 1 Axes>"
      ]
     },
     "metadata": {
      "needs_background": "light"
     },
     "output_type": "display_data"
    }
   ],
   "source": [
    "for tag in ['Use of Masks', 'Implementation', 'Political concerns']:\n",
    "    \n",
    "    tag_count = np.sum(df[tag])\n",
    "    tag_proportion = tag_count / len(df)\n",
    "\n",
    "    for y in range(square_size):\n",
    "        for x in range(square_size):\n",
    "            index = (y * square_size) + x + 1\n",
    "            if index > len(df):\n",
    "                color = 'w'\n",
    "            elif index > tag_count:\n",
    "                color = '#888888'\n",
    "            else:\n",
    "                color = sunbird_orange            \n",
    "            plt.plot(x, y,\n",
    "                     markersize=5,\n",
    "                     marker='o',\n",
    "                     color=color,\n",
    "                     markeredgecolor=None) \n",
    "\n",
    "    plt.axis('square')\n",
    "    plt.axis('off')\n",
    "    plt.xlim(-.2, square_size)\n",
    "    plt.ylim(-.2, square_size)\n",
    "    plt.gcf().set_size_inches(10, 10)\n",
    "    plt.title(f'{tag}: {int(tag_count)} tweets ({tag_proportion * 100:.1f}%)',\n",
    "              loc='left', fontsize=32, **sunbird_font)\n",
    "    plt.savefig(f'images/{tag}.png', dpi=150, bbox_inches='tight')"
   ]
  },
  {
   "cell_type": "markdown",
   "metadata": {},
   "source": [
    "## Display the messages for a tag."
   ]
  },
  {
   "cell_type": "code",
   "execution_count": null,
   "metadata": {},
   "outputs": [],
   "source": [
    "tags = ['Use of Masks', 'Implementation', 'Political concerns']\n",
    "tag = tags[0]\n",
    "examples = df[df[tag] == 1]['Tweet']\n",
    "display(HTML(pd.DataFrame(examples).to_html()))"
   ]
  },
  {
   "cell_type": "code",
   "execution_count": null,
   "metadata": {},
   "outputs": [],
   "source": []
  }
 ],
 "metadata": {
  "kernelspec": {
   "display_name": "Python 3",
   "language": "python",
   "name": "python3"
  },
  "language_info": {
   "codemirror_mode": {
    "name": "ipython",
    "version": 3
   },
   "file_extension": ".py",
   "mimetype": "text/x-python",
   "name": "python",
   "nbconvert_exporter": "python",
   "pygments_lexer": "ipython3",
   "version": "3.6.10"
  }
 },
 "nbformat": 4,
 "nbformat_minor": 4
}
