{
 "cells": [
  {
   "cell_type": "markdown",
   "metadata": {},
   "source": [
    "## Filter Twitter data to add new tweets.\n",
    "\n",
    "This notebook refers to a Google sheet with a list of tweets, and compares with a dump of tweets in json format to find which should be added.\n",
    "\n"
   ]
  },
  {
   "cell_type": "code",
   "execution_count": 1,
   "metadata": {},
   "outputs": [],
   "source": [
    "import io\n",
    "import json\n",
    "import pandas as pd\n",
    "from typing import List\n",
    "from ReadTweetsFromJson import get_tweets_from_json_file"
   ]
  },
  {
   "cell_type": "markdown",
   "metadata": {},
   "source": [
    "Details of the sheet used for annotating tweets."
   ]
  },
  {
   "cell_type": "code",
   "execution_count": 2,
   "metadata": {},
   "outputs": [],
   "source": [
    "KEY = '1qKYUxq_UrUFJy45r5KGuXp6gq-2ZF_VDb6-e7tWagwA'\n",
    "SHEET_NAME = 'Analysis'"
   ]
  },
  {
   "cell_type": "markdown",
   "metadata": {},
   "source": [
    "Helper functions for reading the existing tweets in the sheet, and filtering new ones that have not yet been included."
   ]
  },
  {
   "cell_type": "code",
   "execution_count": 46,
   "metadata": {},
   "outputs": [],
   "source": [
    "def get_already_processed(key: str, sheet_name: str) -> set:\n",
    "    '''Returns the IDs of tweets that are already in the analysis.'''\n",
    "    csv_url = (f'https://docs.google.com/spreadsheets/d/{key}'\n",
    "               f'/gviz/tq?tqx=out:csv&sheet={sheet_name}')\n",
    "    df = pd.read_csv(csv_url)\n",
    "    already_processed = set(df['Tweet ID'])\n",
    "    return already_processed\n",
    "\n",
    "def is_interesting(tweet: dict) -> bool:\n",
    "    '''Applies simple filtering criteria to a tweet.'''\n",
    "    text = tweet.get('full_text') or tweet.get('text')\n",
    "    if not text:\n",
    "        return False\n",
    "    is_retweet = 'retweeted_status' in tweet\n",
    "    contains_url = len(tweet['entities']['urls']) > 0\n",
    "    return not (is_retweet or contains_url)\n",
    "    \n",
    "def get_new_tweets(tweets, already_processed) -> pd.DataFrame:\n",
    "    '''Returns the tweets which are interesting and not yet included.'''\n",
    "    new_tweets = pd.DataFrame()\n",
    "    for tweet in tweets:\n",
    "        text = tweet.get('full_text') or tweet.get('text')\n",
    "        if is_interesting(tweet) and tweet['id'] not in already_processed:\n",
    "            new_tweets = new_tweets.append(\n",
    "                {'text': text,\n",
    "                 'id': str(tweet['id']),\n",
    "                 'time': tweet['created_at']},\n",
    "                ignore_index=True)\n",
    "            already_processed.add(tweet['id'])\n",
    "    new_tweets.id = new_tweets.id.astype('int64')\n",
    "    return new_tweets\n",
    "            \n",
    "def get_excluded_tweets(tweets: List[dict]) -> pd.DataFrame:\n",
    "    '''Returns all tweets that were excluded.'''\n",
    "    excluded_tweets = pd.DataFrame()\n",
    "    for tweet in tweets:\n",
    "        if not is_interesting(tweet):\n",
    "            excluded_tweets = excluded_tweets.append(\n",
    "                {'text': tweet.get('full_text') or tweet.get('text'),\n",
    "                 'id': str(tweet['id']),\n",
    "                 'time': tweet['created_at']},\n",
    "                ignore_index=True)  \n",
    "    excluded_tweets.id = excluded_tweets.id.astype('int64')\n",
    "    return excluded_tweets"
   ]
  },
  {
   "cell_type": "markdown",
   "metadata": {},
   "source": [
    "Process a dump of tweets and save files with the new tweets to be added, and those which were discarded as not interesting."
   ]
  },
  {
   "cell_type": "code",
   "execution_count": 47,
   "metadata": {},
   "outputs": [],
   "source": [
    "JSON_PATH = 'mask_tweets_v4.json'\n",
    "\n",
    "tweets = get_tweets_from_json_file(JSON_PATH)\n",
    "already_processed = get_already_processed(KEY, SHEET_NAME)\n",
    "new_tweets = get_new_tweets(tweets, already_processed)\n",
    "excluded_tweets = get_excluded_tweets(tweets)\n",
    "# new_tweets.to_csv('new.csv')\n",
    "# excluded_tweets.to_csv('excluded.csv')"
   ]
  },
  {
   "cell_type": "code",
   "execution_count": 48,
   "metadata": {},
   "outputs": [
    {
     "data": {
      "text/html": [
       "<div>\n",
       "<style scoped>\n",
       "    .dataframe tbody tr th:only-of-type {\n",
       "        vertical-align: middle;\n",
       "    }\n",
       "\n",
       "    .dataframe tbody tr th {\n",
       "        vertical-align: top;\n",
       "    }\n",
       "\n",
       "    .dataframe thead th {\n",
       "        text-align: right;\n",
       "    }\n",
       "</style>\n",
       "<table border=\"1\" class=\"dataframe\">\n",
       "  <thead>\n",
       "    <tr style=\"text-align: right;\">\n",
       "      <th></th>\n",
       "      <th>id</th>\n",
       "      <th>text</th>\n",
       "      <th>time</th>\n",
       "    </tr>\n",
       "  </thead>\n",
       "  <tbody>\n",
       "    <tr>\n",
       "      <th>0</th>\n",
       "      <td>1265235187094433793</td>\n",
       "      <td>Put that mask on. \\nLet's save ourselves and t...</td>\n",
       "      <td>Tue May 26 10:55:50 +0000 2020</td>\n",
       "    </tr>\n",
       "    <tr>\n",
       "      <th>1</th>\n",
       "      <td>1265234680439242752</td>\n",
       "      <td>@KagutaMuseveni has arrived in Mukono for the ...</td>\n",
       "      <td>Tue May 26 10:53:49 +0000 2020</td>\n",
       "    </tr>\n",
       "    <tr>\n",
       "      <th>2</th>\n",
       "      <td>1265233429655891971</td>\n",
       "      <td>Among the things we should avoid even as we be...</td>\n",
       "      <td>Tue May 26 10:48:51 +0000 2020</td>\n",
       "    </tr>\n",
       "    <tr>\n",
       "      <th>3</th>\n",
       "      <td>1265229010361028616</td>\n",
       "      <td>All is set for @KagutaMuseveni to launch LIDA ...</td>\n",
       "      <td>Tue May 26 10:31:17 +0000 2020</td>\n",
       "    </tr>\n",
       "    <tr>\n",
       "      <th>4</th>\n",
       "      <td>1265227531256508417</td>\n",
       "      <td>Schools quietly planning to add face mask fees...</td>\n",
       "      <td>Tue May 26 10:25:24 +0000 2020</td>\n",
       "    </tr>\n",
       "    <tr>\n",
       "      <th>...</th>\n",
       "      <td>...</td>\n",
       "      <td>...</td>\n",
       "      <td>...</td>\n",
       "    </tr>\n",
       "    <tr>\n",
       "      <th>102</th>\n",
       "      <td>1265266482797215746</td>\n",
       "      <td>“No mask, No Entry” at Kabale Regional Referra...</td>\n",
       "      <td>Tue May 26 13:00:11 +0000 2020</td>\n",
       "    </tr>\n",
       "    <tr>\n",
       "      <th>103</th>\n",
       "      <td>1265263818898313221</td>\n",
       "      <td>Face Masks - The Don’ts \\n\\n-Do NOT pick masks...</td>\n",
       "      <td>Tue May 26 12:49:36 +0000 2020</td>\n",
       "    </tr>\n",
       "    <tr>\n",
       "      <th>104</th>\n",
       "      <td>1265262140149153793</td>\n",
       "      <td>Stay healthy, stay positive and keep going but...</td>\n",
       "      <td>Tue May 26 12:42:56 +0000 2020</td>\n",
       "    </tr>\n",
       "    <tr>\n",
       "      <th>105</th>\n",
       "      <td>1265244250880557056</td>\n",
       "      <td>@MinofHealthUG issued guidelines for the use o...</td>\n",
       "      <td>Tue May 26 11:31:51 +0000 2020</td>\n",
       "    </tr>\n",
       "    <tr>\n",
       "      <th>106</th>\n",
       "      <td>1265240555698688000</td>\n",
       "      <td>@ZhanyuM @Ecobank the 18th May 2020. We have m...</td>\n",
       "      <td>Tue May 26 11:17:10 +0000 2020</td>\n",
       "    </tr>\n",
       "  </tbody>\n",
       "</table>\n",
       "<p>107 rows × 3 columns</p>\n",
       "</div>"
      ],
      "text/plain": [
       "                      id                                               text  \\\n",
       "0    1265235187094433793  Put that mask on. \\nLet's save ourselves and t...   \n",
       "1    1265234680439242752  @KagutaMuseveni has arrived in Mukono for the ...   \n",
       "2    1265233429655891971  Among the things we should avoid even as we be...   \n",
       "3    1265229010361028616  All is set for @KagutaMuseveni to launch LIDA ...   \n",
       "4    1265227531256508417  Schools quietly planning to add face mask fees...   \n",
       "..                   ...                                                ...   \n",
       "102  1265266482797215746  “No mask, No Entry” at Kabale Regional Referra...   \n",
       "103  1265263818898313221  Face Masks - The Don’ts \\n\\n-Do NOT pick masks...   \n",
       "104  1265262140149153793  Stay healthy, stay positive and keep going but...   \n",
       "105  1265244250880557056  @MinofHealthUG issued guidelines for the use o...   \n",
       "106  1265240555698688000  @ZhanyuM @Ecobank the 18th May 2020. We have m...   \n",
       "\n",
       "                               time  \n",
       "0    Tue May 26 10:55:50 +0000 2020  \n",
       "1    Tue May 26 10:53:49 +0000 2020  \n",
       "2    Tue May 26 10:48:51 +0000 2020  \n",
       "3    Tue May 26 10:31:17 +0000 2020  \n",
       "4    Tue May 26 10:25:24 +0000 2020  \n",
       "..                              ...  \n",
       "102  Tue May 26 13:00:11 +0000 2020  \n",
       "103  Tue May 26 12:49:36 +0000 2020  \n",
       "104  Tue May 26 12:42:56 +0000 2020  \n",
       "105  Tue May 26 11:31:51 +0000 2020  \n",
       "106  Tue May 26 11:17:10 +0000 2020  \n",
       "\n",
       "[107 rows x 3 columns]"
      ]
     },
     "execution_count": 48,
     "metadata": {},
     "output_type": "execute_result"
    }
   ],
   "source": [
    "new_tweets"
   ]
  },
  {
   "cell_type": "code",
   "execution_count": 51,
   "metadata": {},
   "outputs": [],
   "source": [
    "# Re-order columns to match order in spreadsheet\n",
    "cols = ['id', 'time', 'text']\n",
    "new_tweets = new_tweets[cols]\n",
    "excluded_tweets = new_tweets[cols]\n",
    "\n",
    "# Create csv files without the index column for easy merging with the spreadsheet \n",
    "new_tweets.to_csv('new.csv', index=False)\n",
    "excluded_tweets.to_csv('excluded.csv', index=False)"
   ]
  }
 ],
 "metadata": {
  "kernelspec": {
   "display_name": "Python 3",
   "language": "python",
   "name": "python3"
  },
  "language_info": {
   "codemirror_mode": {
    "name": "ipython",
    "version": 3
   },
   "file_extension": ".py",
   "mimetype": "text/x-python",
   "name": "python",
   "nbconvert_exporter": "python",
   "pygments_lexer": "ipython3",
   "version": "3.8.2"
  }
 },
 "nbformat": 4,
 "nbformat_minor": 4
}
